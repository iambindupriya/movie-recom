{
  "nbformat": 4,
  "nbformat_minor": 0,
  "metadata": {
    "colab": {
      "name": "ProjectRunMay10.ipynb",
      "provenance": [],
      "collapsed_sections": [],
      "toc_visible": true
    },
    "kernelspec": {
      "name": "python3",
      "display_name": "Python 3"
    }
  },
  "cells": [
    {
      "cell_type": "markdown",
      "metadata": {
        "id": "vk_b37h9BMD9",
        "colab_type": "text"
      },
      "source": [
        "# Install spark-related dependencies"
      ]
    },
    {
      "cell_type": "code",
      "metadata": {
        "id": "dg0-9oJiDITo",
        "colab_type": "code",
        "outputId": "3ac447a1-07de-436a-b463-21db9564dbdd",
        "colab": {
          "base_uri": "https://localhost:8080/",
          "height": 238
        }
      },
      "source": [
        "!apt-get install openjdk-8-jdk-headless -qq > /dev/null\n",
        "\n",
        "!wget -q http://apache.osuosl.org/spark/spark-2.4.5/spark-2.4.5-bin-hadoop2.7.tgz\n",
        "\n",
        "!tar xf spark-2.4.5-bin-hadoop2.7.tgz\n",
        "\n",
        "!pip install -q findspark\n",
        "\n",
        "!pip install pyspark"
      ],
      "execution_count": 0,
      "outputs": [
        {
          "output_type": "stream",
          "text": [
            "Collecting pyspark\n",
            "\u001b[?25l  Downloading https://files.pythonhosted.org/packages/9a/5a/271c416c1c2185b6cb0151b29a91fff6fcaed80173c8584ff6d20e46b465/pyspark-2.4.5.tar.gz (217.8MB)\n",
            "\u001b[K     |████████████████████████████████| 217.8MB 60kB/s \n",
            "\u001b[?25hCollecting py4j==0.10.7\n",
            "\u001b[?25l  Downloading https://files.pythonhosted.org/packages/e3/53/c737818eb9a7dc32a7cd4f1396e787bd94200c3997c72c1dbe028587bd76/py4j-0.10.7-py2.py3-none-any.whl (197kB)\n",
            "\u001b[K     |████████████████████████████████| 204kB 44.0MB/s \n",
            "\u001b[?25hBuilding wheels for collected packages: pyspark\n",
            "  Building wheel for pyspark (setup.py) ... \u001b[?25l\u001b[?25hdone\n",
            "  Created wheel for pyspark: filename=pyspark-2.4.5-py2.py3-none-any.whl size=218257927 sha256=cf1eafc769dac31e6579276f6d8d55e832deff4da3bd228d50f00f9cd7c808ed\n",
            "  Stored in directory: /root/.cache/pip/wheels/bf/db/04/61d66a5939364e756eb1c1be4ec5bdce6e04047fc7929a3c3c\n",
            "Successfully built pyspark\n",
            "Installing collected packages: py4j, pyspark\n",
            "Successfully installed py4j-0.10.7 pyspark-2.4.5\n"
          ],
          "name": "stdout"
        }
      ]
    },
    {
      "cell_type": "markdown",
      "metadata": {
        "id": "IMFAbeja_IZ2",
        "colab_type": "text"
      },
      "source": [
        "#Set up required environment variables"
      ]
    },
    {
      "cell_type": "code",
      "metadata": {
        "id": "dgtmX704DUSq",
        "colab_type": "code",
        "colab": {}
      },
      "source": [
        "import os\n",
        "os.environ[\"JAVA_HOME\"] = \"/usr/lib/jvm/java-8-openjdk-amd64\"\n",
        "os.environ[\"SPARK_HOME\"] = \"/content/spark-2.4.5-bin-hadoop2.7\""
      ],
      "execution_count": 0,
      "outputs": []
    },
    {
      "cell_type": "markdown",
      "metadata": {
        "id": "WPz1u42SeDSK",
        "colab_type": "text"
      },
      "source": [
        "#Import Tools and Set Up Spark Context"
      ]
    },
    {
      "cell_type": "code",
      "metadata": {
        "id": "PazqmpqUDsR5",
        "colab_type": "code",
        "colab": {}
      },
      "source": [
        "# Tools we need to connect to the Spark server, load our data,\n",
        "# clean it and prepare it\n",
        "from pyspark import SparkContext, SparkConf\n",
        "import pandas as pd\n",
        "from pyspark.sql import SparkSession\n",
        "spark = SparkSession.builder.appName('recnn').getOrCreate()\n",
        "\n",
        "from pyspark.ml.evaluation import RegressionEvaluator\n",
        "from pyspark.ml.recommendation import ALS\n",
        "from pyspark.sql import Row\n",
        "from pyspark.ml.tuning import TrainValidationSplit, ParamGridBuilder\n",
        "import matplotlib.pyplot as plt\n",
        "import numpy as np"
      ],
      "execution_count": 0,
      "outputs": []
    },
    {
      "cell_type": "code",
      "metadata": {
        "id": "K343QVq6DviB",
        "colab_type": "code",
        "colab": {}
      },
      "source": [
        "APP_NAME = \"Andrew\"\n",
        "SPARK_URL = \"local[*]\"\n",
        "conf = SparkConf().setAppName(APP_NAME).setMaster(SPARK_URL)\n",
        "sc = SparkContext.getOrCreate(conf)"
      ],
      "execution_count": 0,
      "outputs": []
    },
    {
      "cell_type": "markdown",
      "metadata": {
        "id": "iY0ObQ7dDjBO",
        "colab_type": "text"
      },
      "source": [
        "#Import the Data"
      ]
    },
    {
      "cell_type": "code",
      "metadata": {
        "id": "CUPYQobqD73-",
        "colab_type": "code",
        "colab": {}
      },
      "source": [
        "#Import the ratings Dataframe\n",
        "dataFrame = spark.read.csv('ratings.csv')\n",
        "ratingsDF = pd.read_csv('ratings.csv')\n",
        "data = sc.textFile('ratings.csv').map(lambda line: line.split(\",\"))\n",
        "data1 = data.toDF()\n",
        "\n",
        "#Import the movies Dataframe\n",
        "moviesDF = pd.read_csv('movies.csv')"
      ],
      "execution_count": 0,
      "outputs": []
    },
    {
      "cell_type": "markdown",
      "metadata": {
        "id": "EHxktaqN_Tev",
        "colab_type": "text"
      },
      "source": [
        "#Clean, Tidy, and Prepare the Data"
      ]
    },
    {
      "cell_type": "code",
      "metadata": {
        "id": "cGqJQURmE8Rr",
        "colab_type": "code",
        "colab": {}
      },
      "source": [
        "#for ratings\n",
        "header = data1.filter((data1['_1'] == 'userId') & (data1['_2'] == 'movieId') & (data1['_3'] == 'rating') & (data1['_4'] == 'timestamp'))\n",
        "restDF = data1.subtract(header)\n",
        "headerColumn = header.first()\n",
        "for column in restDF.columns:\n",
        "    restDF = restDF.withColumnRenamed(column, headerColumn[column])\n",
        "#restDF.show(truncate=False)\n",
        "DF1 = restDF\n",
        "from pyspark.sql.types import DoubleType\n",
        "DF2 = DF1.withColumn(\"userId\", DF1[\"userId\"].cast(DoubleType()))\n",
        "DF3 = DF2.withColumn(\"movieId\", DF1[\"movieId\"].cast(DoubleType()))\n",
        "DF4 = DF3.withColumn(\"rating\", DF1[\"rating\"].cast(DoubleType()))\n",
        "DF5 = DF4.withColumn(\"timestamp\", DF1[\"timestamp\"].cast(DoubleType()))"
      ],
      "execution_count": 0,
      "outputs": []
    },
    {
      "cell_type": "markdown",
      "metadata": {
        "id": "Benat-nAtBvH",
        "colab_type": "text"
      },
      "source": [
        "# Split the data into training and test data\n",
        "\n",
        "\n"
      ]
    },
    {
      "cell_type": "code",
      "metadata": {
        "id": "WdL7984rtGc9",
        "colab_type": "code",
        "colab": {}
      },
      "source": [
        "(training, test) = DF5.randomSplit([0.8, 0.2])"
      ],
      "execution_count": 0,
      "outputs": []
    },
    {
      "cell_type": "markdown",
      "metadata": {
        "id": "VvyK0zqiePM9",
        "colab_type": "text"
      },
      "source": [
        "#Build the Model and Evaluate the Error\n"
      ]
    },
    {
      "cell_type": "code",
      "metadata": {
        "id": "zjABdvYRLVpP",
        "colab_type": "code",
        "outputId": "fff3ceba-e11f-4332-a4a2-476e0d4cf718",
        "colab": {
          "base_uri": "https://localhost:8080/",
          "height": 34
        }
      },
      "source": [
        "als = ALS(nonnegative = True, userCol=\"userId\", itemCol=\"movieId\", ratingCol=\"rating\", coldStartStrategy=\"drop\", implicitPrefs=False)\n",
        "model = als.fit(training)\n",
        "predictions = model.transform(test)\n",
        "evaluator = RegressionEvaluator(metricName=\"rmse\", labelCol=\"rating\",\n",
        "                                predictionCol=\"prediction\")\n",
        "rmse = evaluator.evaluate(predictions)\n",
        "print(\"The Root Mean Squared Error= \" + str(rmse)) "
      ],
      "execution_count": 0,
      "outputs": [
        {
          "output_type": "stream",
          "text": [
            "The Root Mean Squared Error= 0.8807170387040474\n"
          ],
          "name": "stdout"
        }
      ]
    },
    {
      "cell_type": "markdown",
      "metadata": {
        "id": "daRkTNlyS5HI",
        "colab_type": "text"
      },
      "source": [
        "# Generate top 5 movie recommendations for a set of  users"
      ]
    },
    {
      "cell_type": "code",
      "metadata": {
        "id": "kYCSBJJGS4dm",
        "colab_type": "code",
        "colab": {
          "base_uri": "https://localhost:8080/",
          "height": 187
        },
        "outputId": "ae266502-af9b-4c06-8ee8-cfb25012d6aa"
      },
      "source": [
        "users = DF5.select(als.getUserCol()).distinct().limit(5)\n",
        "userSubsetRecs = model.recommendForUserSubset(users, 5)\n",
        "userSubsetRecs.show()"
      ],
      "execution_count": 149,
      "outputs": [
        {
          "output_type": "stream",
          "text": [
            "+------+--------------------+\n",
            "|userId|     recommendations|\n",
            "+------+--------------------+\n",
            "|   496|[[6818, 4.7784505...|\n",
            "|   596|[[33649, 4.86407]...|\n",
            "|   305|[[86345, 5.242970...|\n",
            "|   299|[[3022, 4.955458]...|\n",
            "|   558|[[5034, 6.2627954...|\n",
            "+------+--------------------+\n",
            "\n"
          ],
          "name": "stdout"
        }
      ]
    },
    {
      "cell_type": "code",
      "metadata": {
        "id": "rzheyF4NVlJH",
        "colab_type": "code",
        "colab": {}
      },
      "source": [
        "userRec = userSubsetRecs.toPandas()\n",
        "userRec[['Rec1','Rec2','Rec3','Rec4','Rec5']] = pd.DataFrame(userRec.recommendations.tolist(), index= userRec.index)\n",
        "#merge9 = pd.merge(left= userRec, right= moviesDF , left_on='movieId', right_on='movieId')\n",
        "#merge9[['Rec1','Rec2','Rec3','Rec4','Rec5']] = pd.DataFrame(merge6.recommendations.tolist(), index= merge6.index)\n",
        "userRec[['Rec1_Movie','Rec1_Rating']] = pd.DataFrame(userRec.Rec1.tolist(), index= userRec.index)\n",
        "userRec[['Rec2_Movie','Rec2_Rating']] = pd.DataFrame(userRec.Rec2.tolist(), index= userRec.index)\n",
        "userRec[['Rec3_Movie','Rec3_Rating']] = pd.DataFrame(userRec.Rec3.tolist(), index= userRec.index)\n",
        "userRec[['Rec4_Movie','Rec4_Rating']] = pd.DataFrame(userRec.Rec4.tolist(), index= userRec.index)\n",
        "userRec[['Rec5_Movie','Rec5_Rating']] = pd.DataFrame(userRec.Rec5.tolist(), index= userRec.index)\n",
        "userRec = pd.DataFrame.drop(userRec, columns=['recommendations','Rec1','Rec2','Rec3','Rec4','Rec5'], axis = 1)\n",
        "\n",
        "\n",
        "\n"
      ],
      "execution_count": 0,
      "outputs": []
    },
    {
      "cell_type": "markdown",
      "metadata": {
        "id": "uEZkSWB_W-3s",
        "colab_type": "text"
      },
      "source": [
        "#Plot the findings"
      ]
    },
    {
      "cell_type": "code",
      "metadata": {
        "id": "FyQIRE2DWsFy",
        "colab_type": "code",
        "colab": {
          "base_uri": "https://localhost:8080/",
          "height": 627
        },
        "outputId": "007bd3bc-16e3-4626-c645-7f07f073930f"
      },
      "source": [
        "movie_list = ['Come And See Me (1985)', 'Gigantic (2002)', 'Swept Away (1975)', 'The Ghost Writer (2010)', 'The Big Bus (1976)']\n",
        "ratings496 = [4.7785, 4.7315, 4.7179, 4.6998, 4.6940]\n",
        "\n",
        "fig, ax = plt.subplots(figsize=(20,10))\n",
        "\n",
        "ax.plot(movie_list, ratings496, color='red', marker='o')\n",
        "ax.set_title('Recommendations for User 496', fontsize=14)\n",
        "ax.set_xlabel('Movie', fontsize=14)\n",
        "ax.set_ylabel('Rating', fontsize=14)\n",
        "ax.grid(True)"
      ],
      "execution_count": 147,
      "outputs": [
        {
          "output_type": "display_data",
          "data": {
            "image/png": "[encoded data removed]",
            "text/plain": [
              "<Figure size 1440x720 with 1 Axes>"
            ]
          },
          "metadata": {
            "tags": []
          }
        }
      ]
    },
    {
      "cell_type": "markdown",
      "metadata": {
        "id": "Zz4K68wST9nm",
        "colab_type": "text"
      },
      "source": [
        "# Generate top 5 user recommendations for a specified set of movies"
      ]
    },
    {
      "cell_type": "code",
      "metadata": {
        "id": "MaTx_-hRUDte",
        "colab_type": "code",
        "colab": {
          "base_uri": "https://localhost:8080/",
          "height": 238
        },
        "outputId": "0c2328c0-1eed-486e-dd09-7a3593c9fb8e"
      },
      "source": [
        "movies = DF5.select(als.getItemCol()).distinct().limit(8)\n",
        "movieSubSetRecs = model.recommendForItemSubset(movies, 5)\n",
        "movieSubSetRecs.show()"
      ],
      "execution_count": 39,
      "outputs": [
        {
          "output_type": "stream",
          "text": [
            "+-------+--------------------+\n",
            "|movieId|     recommendations|\n",
            "+-------+--------------------+\n",
            "|    596|[[224, 4.6651483]...|\n",
            "| 119155|[[53, 4.593817], ...|\n",
            "| 148675|[[584, 2.2885034]...|\n",
            "|    299|[[250, 5.052653],...|\n",
            "|   6765|[[594, 4.5033307]...|\n",
            "|    558|[[543, 4.6026487]...|\n",
            "|   3980|[[578, 4.462367],...|\n",
            "|    934|[[543, 4.7518454]...|\n",
            "+-------+--------------------+\n",
            "\n"
          ],
          "name": "stdout"
        }
      ]
    },
    {
      "cell_type": "code",
      "metadata": {
        "id": "H4d7j8d0UZ54",
        "colab_type": "code",
        "colab": {}
      },
      "source": [
        "movieRec = movieSubSetRecs.toPandas()\n",
        "merge6 = pd.merge(left= movieRec, right= moviesDF , left_on='movieId', right_on='movieId')\n",
        "merge6[['Rec1','Rec2','Rec3','Rec4','Rec5']] = pd.DataFrame(merge6.recommendations.tolist(), index= merge6.index)\n",
        "merge6[['Rec1_User','User1_Pred_Rating']] = pd.DataFrame(merge6.Rec1.tolist(), index= merge6.index)\n",
        "merge6[['Rec2_User','User2_Pred_Rating']] = pd.DataFrame(merge6.Rec2.tolist(), index= merge6.index)\n",
        "merge6[['Rec3_User','User3_Pred_Rating']] = pd.DataFrame(merge6.Rec3.tolist(), index= merge6.index)\n",
        "merge6[['Rec4_User','User4_Pred_Rating']] = pd.DataFrame(merge6.Rec4.tolist(), index= merge6.index)\n",
        "merge6[['Rec5_User','User5_Pred_Rating']] = pd.DataFrame(merge6.Rec5.tolist(), index= merge6.index)\n",
        "merge6 = pd.DataFrame.drop(merge6, columns=['recommendations','Rec1','Rec2','Rec3','Rec4','Rec5'], axis = 1)\n",
        "\n"
      ],
      "execution_count": 0,
      "outputs": []
    },
    {
      "cell_type": "markdown",
      "metadata": {
        "id": "Qn9e2JvV_tDg",
        "colab_type": "text"
      },
      "source": [
        "#Plot the Findings"
      ]
    },
    {
      "cell_type": "code",
      "metadata": {
        "id": "NOabV44T9YbQ",
        "colab_type": "code",
        "colab": {
          "base_uri": "https://localhost:8080/",
          "height": 627
        },
        "outputId": "258e65dc-c8db-4449-955d-d404101c0191"
      },
      "source": [
        "usersG = ['User 53', 'User 43', 'User 594', 'User 12' , 'User 558']\n",
        "ratingsG = [4.5938, 4.4576, 4.3858, 4.3563, 4.2878]\n",
        "\n",
        "fig, ax = plt.subplots(figsize=(20,10))\n",
        "\n",
        "ax.plot(usersG, ratingsG, color='blue', marker='o')\n",
        "ax.set_title('Top 5 Users Recommended for \"Night at The Museum: Secret of the Tomb', fontsize=14)\n",
        "ax.set_xlabel('User', fontsize=14)\n",
        "ax.set_ylabel('Rating', fontsize=14)\n",
        "ax.grid(True)"
      ],
      "execution_count": 142,
      "outputs": [
        {
          "output_type": "display_data",
          "data": {
            "image/png": "[encoded data removed]",
            "text/plain": [
              "<Figure size 1440x720 with 1 Axes>"
            ]
          },
          "metadata": {
            "tags": []
          }
        }
      ]
    },
    {
      "cell_type": "markdown",
      "metadata": {
        "id": "alnJgEAIeSD6",
        "colab_type": "text"
      },
      "source": [
        "#Identify Top 5 movie predictions for any user"
      ]
    },
    {
      "cell_type": "code",
      "metadata": {
        "id": "oo4zWKiwlLPn",
        "colab_type": "code",
        "colab": {}
      },
      "source": [
        "# definition from https://www.youtube.com/watch?v=FgGjc5oabrA\n",
        "def get_recs_for_user(recs):\n",
        "  #Recs should be for a specific user.\n",
        "  recs = recs.select(\"recommendations.movieId\", \"recommendations.rating\")\n",
        "  movies = recs.select(\"movieId\").toPandas().iloc[0,0]\n",
        "  ratings = recs.select(\"rating\").toPandas().iloc[0,0]\n",
        "  ratings_matrix = pd.DataFrame(movies,columns=[\"movieId\"])\n",
        "  ratings_matrix[\"ratings\"] = ratings\n",
        "  ratings_matrix_ps = sqlContext.createDataFrame(ratings_matrix)\n",
        "  return ratings_matrix_ps"
      ],
      "execution_count": 0,
      "outputs": []
    },
    {
      "cell_type": "markdown",
      "metadata": {
        "id": "yl8IGUOcBe3C",
        "colab_type": "text"
      },
      "source": [
        "#Enter a User-Id"
      ]
    },
    {
      "cell_type": "code",
      "metadata": {
        "id": "HSkwWX5iokGB",
        "colab_type": "code",
        "outputId": "af5fc9e9-ebca-4821-bcc0-9a965f3ba8ed",
        "colab": {
          "base_uri": "https://localhost:8080/",
          "height": 663
        }
      },
      "source": [
        "# Workaround the Future Warning from https://stackoverflow.com/questions/40659212/futurewarning-elementwise-comparison-failed-returning-scalar-but-in-the-futur\n",
        "from pyspark.sql import SQLContext\n",
        "import pyspark.sql.functions as sf\n",
        "import warnings\n",
        "warnings.simplefilter(action='ignore', category=FutureWarning)\n",
        "sqlContext = SQLContext(sc)\n",
        "av1 = 0.0\n",
        "while True:\n",
        "    tempav1 = input(\"Please enter a user Id: \")\n",
        "    if tempav1.isnumeric() == False:\n",
        "      print(\"Error: Please enter a number!\")\n",
        "    else: \n",
        "      av1 = float(tempav1)\n",
        "      dfsubset = DF5.filter(DF5['userId'] == av1)\n",
        "      if dfsubset.count() == 0: \n",
        "        print(\"Error: That user does not exist. Please enter a valid userId.\")\n",
        "      else:\n",
        "        print(\"Thank You\")\n",
        "        dfsubset.show()\n",
        "        break\n",
        "print(av1)\n",
        "#dfsubset = DF5.filter(DF5['userId'] == av1)\n",
        "userRecs44 = model.recommendForUserSubset(dfsubset, 5)\n",
        "pie = get_recs_for_user(userRecs44)\n",
        "pie_df = pie.toPandas()\n"
      ],
      "execution_count": 223,
      "outputs": [
        {
          "output_type": "stream",
          "text": [
            "here: av is 0.0\n",
            "Please enter a user Id: k\n",
            "That's not a number!\n",
            "here: av is 0.0\n",
            "Please enter a user Id: 615\n",
            "dropped in else loop:  615.0\n",
            "That user does not exist. Try again\n",
            "here: av is 615.0\n",
            "Please enter a user Id: 305\n",
            "dropped in else loop:  305.0\n",
            "Thank You\n",
            "+------+--------+------+-------------+\n",
            "|userId| movieId|rating|    timestamp|\n",
            "+------+--------+------+-------------+\n",
            "| 305.0|   480.0|   2.0|  1.4902114E9|\n",
            "| 305.0|106002.0|   4.0|1.460304042E9|\n",
            "| 305.0|106489.0|   3.0|1.460136597E9|\n",
            "| 305.0|  6764.0|   3.0|1.535125306E9|\n",
            "| 305.0| 60514.0|   3.5| 1.46013719E9|\n",
            "| 305.0|   300.0|   3.5| 1.51819801E9|\n",
            "| 305.0|   555.0|   5.0|1.460563758E9|\n",
            "| 305.0|  1466.0|   3.5|1.518767888E9|\n",
            "| 305.0|  1676.0|   3.5|1.518198046E9|\n",
            "| 305.0| 48516.0|   4.5|1.460135171E9|\n",
            "| 305.0|105355.0|   2.5|1.460564044E9|\n",
            "| 305.0|  2006.0|   5.0|1.461945079E9|\n",
            "| 305.0|  4896.0|   3.0|1.518198357E9|\n",
            "| 305.0| 26249.0|   5.0|1.519639479E9|\n",
            "| 305.0|106100.0|   4.5|1.460135606E9|\n",
            "| 305.0|   541.0|   4.0|1.460135378E9|\n",
            "| 305.0|  1200.0|   3.5|1.462474119E9|\n",
            "| 305.0|  2804.0|   5.0|1.524898025E9|\n",
            "| 305.0|  2858.0|   5.0| 1.46013538E9|\n",
            "| 305.0|   431.0|   5.0|1.460136231E9|\n",
            "+------+--------+------+-------------+\n",
            "only showing top 20 rows\n",
            "\n",
            "305.0\n"
          ],
          "name": "stdout"
        }
      ]
    },
    {
      "cell_type": "code",
      "metadata": {
        "id": "fnsUR3VsfvtX",
        "colab_type": "code",
        "colab": {
          "base_uri": "https://localhost:8080/",
          "height": 665
        },
        "outputId": "7140c522-bce9-4176-e051-3dae13425042"
      },
      "source": [
        "merge24 = pd.merge(left= pie_df, right= moviesDF , left_on='movieId', right_on='movieId')\n",
        "merge3 = pd.merge(left= ratingsDF, right= moviesDF, left_on= 'movieId', right_on='movieId')\n",
        "AAA = merge3.loc[merge3['userId'] == int(av1)]\n",
        "AAA.sort_values(by=['rating'], inplace=True, ascending=False)\n",
        "print(\"User \" + str(av1) + \"s Top Movie Ratings\")\n",
        "display(AAA.head(10))\n",
        "print(\"Reccomendations for user \" + str(av1))\n",
        "display(merge24.head())\n",
        "#movieRecs = model.recommendForAllItems(5)\n"
      ],
      "execution_count": 224,
      "outputs": [
        {
          "output_type": "stream",
          "text": [
            "User 305.0s Top Movie Ratings\n"
          ],
          "name": "stdout"
        },
        {
          "output_type": "stream",
          "text": [
            "/usr/local/lib/python3.6/dist-packages/ipykernel_launcher.py:4: SettingWithCopyWarning: \n",
            "A value is trying to be set on a copy of a slice from a DataFrame\n",
            "\n",
            "See the caveats in the documentation: https://pandas.pydata.org/pandas-docs/stable/user_guide/indexing.html#returning-a-view-versus-a-copy\n",
            "  after removing the cwd from sys.path.\n"
          ],
          "name": "stderr"
        },
        {
          "output_type": "display_data",
          "data": {
            "text/html": [
              "<div>\n",
              "<style scoped>\n",
              "    .dataframe tbody tr th:only-of-type {\n",
              "        vertical-align: middle;\n",
              "    }\n",
              "\n",
              "    .dataframe tbody tr th {\n",
              "        vertical-align: top;\n",
              "    }\n",
              "\n",
              "    .dataframe thead th {\n",
              "        text-align: right;\n",
              "    }\n",
              "</style>\n",
              "<table border=\"1\" class=\"dataframe\">\n",
              "  <thead>\n",
              "    <tr style=\"text-align: right;\">\n",
              "      <th></th>\n",
              "      <th>userId</th>\n",
              "      <th>movieId</th>\n",
              "      <th>rating</th>\n",
              "      <th>timestamp</th>\n",
              "      <th>title</th>\n",
              "      <th>genres</th>\n",
              "    </tr>\n",
              "  </thead>\n",
              "  <tbody>\n",
              "    <tr>\n",
              "      <th>71084</th>\n",
              "      <td>305</td>\n",
              "      <td>1262</td>\n",
              "      <td>5.0</td>\n",
              "      <td>1463503090</td>\n",
              "      <td>Great Escape, The (1963)</td>\n",
              "      <td>Action|Adventure|Drama|War</td>\n",
              "    </tr>\n",
              "    <tr>\n",
              "      <th>80062</th>\n",
              "      <td>305</td>\n",
              "      <td>93838</td>\n",
              "      <td>5.0</td>\n",
              "      <td>1460306060</td>\n",
              "      <td>The Raid: Redemption (2011)</td>\n",
              "      <td>Action|Crime</td>\n",
              "    </tr>\n",
              "    <tr>\n",
              "      <th>94089</th>\n",
              "      <td>305</td>\n",
              "      <td>62250</td>\n",
              "      <td>5.0</td>\n",
              "      <td>1460137466</td>\n",
              "      <td>Gomorrah (Gomorra) (2008)</td>\n",
              "      <td>Crime|Drama</td>\n",
              "    </tr>\n",
              "    <tr>\n",
              "      <th>56014</th>\n",
              "      <td>305</td>\n",
              "      <td>67255</td>\n",
              "      <td>5.0</td>\n",
              "      <td>1460137656</td>\n",
              "      <td>Girl with the Dragon Tattoo, The (Män som hata...</td>\n",
              "      <td>Crime|Drama|Mystery|Thriller</td>\n",
              "    </tr>\n",
              "    <tr>\n",
              "      <th>79978</th>\n",
              "      <td>305</td>\n",
              "      <td>54995</td>\n",
              "      <td>5.0</td>\n",
              "      <td>1461875290</td>\n",
              "      <td>Planet Terror (2007)</td>\n",
              "      <td>Action|Horror|Sci-Fi</td>\n",
              "    </tr>\n",
              "    <tr>\n",
              "      <th>55657</th>\n",
              "      <td>305</td>\n",
              "      <td>57669</td>\n",
              "      <td>5.0</td>\n",
              "      <td>1460135958</td>\n",
              "      <td>In Bruges (2008)</td>\n",
              "      <td>Comedy|Crime|Drama|Thriller</td>\n",
              "    </tr>\n",
              "    <tr>\n",
              "      <th>55561</th>\n",
              "      <td>305</td>\n",
              "      <td>55765</td>\n",
              "      <td>5.0</td>\n",
              "      <td>1460135858</td>\n",
              "      <td>American Gangster (2007)</td>\n",
              "      <td>Crime|Drama|Thriller</td>\n",
              "    </tr>\n",
              "    <tr>\n",
              "      <th>80010</th>\n",
              "      <td>305</td>\n",
              "      <td>65514</td>\n",
              "      <td>5.0</td>\n",
              "      <td>1494084333</td>\n",
              "      <td>Ip Man (2008)</td>\n",
              "      <td>Action|Drama|War</td>\n",
              "    </tr>\n",
              "    <tr>\n",
              "      <th>55514</th>\n",
              "      <td>305</td>\n",
              "      <td>55276</td>\n",
              "      <td>5.0</td>\n",
              "      <td>1460136738</td>\n",
              "      <td>Michael Clayton (2007)</td>\n",
              "      <td>Drama|Thriller</td>\n",
              "    </tr>\n",
              "    <tr>\n",
              "      <th>26825</th>\n",
              "      <td>305</td>\n",
              "      <td>589</td>\n",
              "      <td>5.0</td>\n",
              "      <td>1460135760</td>\n",
              "      <td>Terminator 2: Judgment Day (1991)</td>\n",
              "      <td>Action|Sci-Fi</td>\n",
              "    </tr>\n",
              "  </tbody>\n",
              "</table>\n",
              "</div>"
            ],
            "text/plain": [
              "       userId  ...                        genres\n",
              "71084     305  ...    Action|Adventure|Drama|War\n",
              "80062     305  ...                  Action|Crime\n",
              "94089     305  ...                   Crime|Drama\n",
              "56014     305  ...  Crime|Drama|Mystery|Thriller\n",
              "79978     305  ...          Action|Horror|Sci-Fi\n",
              "55657     305  ...   Comedy|Crime|Drama|Thriller\n",
              "55561     305  ...          Crime|Drama|Thriller\n",
              "80010     305  ...              Action|Drama|War\n",
              "55514     305  ...                Drama|Thriller\n",
              "26825     305  ...                 Action|Sci-Fi\n",
              "\n",
              "[10 rows x 6 columns]"
            ]
          },
          "metadata": {
            "tags": []
          }
        },
        {
          "output_type": "stream",
          "text": [
            "Reccomendations for user 305.0\n"
          ],
          "name": "stdout"
        },
        {
          "output_type": "display_data",
          "data": {
            "text/html": [
              "<div>\n",
              "<style scoped>\n",
              "    .dataframe tbody tr th:only-of-type {\n",
              "        vertical-align: middle;\n",
              "    }\n",
              "\n",
              "    .dataframe tbody tr th {\n",
              "        vertical-align: top;\n",
              "    }\n",
              "\n",
              "    .dataframe thead th {\n",
              "        text-align: right;\n",
              "    }\n",
              "</style>\n",
              "<table border=\"1\" class=\"dataframe\">\n",
              "  <thead>\n",
              "    <tr style=\"text-align: right;\">\n",
              "      <th></th>\n",
              "      <th>movieId</th>\n",
              "      <th>ratings</th>\n",
              "      <th>title</th>\n",
              "      <th>genres</th>\n",
              "    </tr>\n",
              "  </thead>\n",
              "  <tbody>\n",
              "    <tr>\n",
              "      <th>0</th>\n",
              "      <td>86345</td>\n",
              "      <td>5.242970</td>\n",
              "      <td>Louis C.K.: Hilarious (2010)</td>\n",
              "      <td>Comedy</td>\n",
              "    </tr>\n",
              "    <tr>\n",
              "      <th>1</th>\n",
              "      <td>5490</td>\n",
              "      <td>5.220172</td>\n",
              "      <td>The Big Bus (1976)</td>\n",
              "      <td>Action|Comedy</td>\n",
              "    </tr>\n",
              "    <tr>\n",
              "      <th>2</th>\n",
              "      <td>132333</td>\n",
              "      <td>5.220172</td>\n",
              "      <td>Seve (2014)</td>\n",
              "      <td>Documentary|Drama</td>\n",
              "    </tr>\n",
              "    <tr>\n",
              "      <th>3</th>\n",
              "      <td>3200</td>\n",
              "      <td>5.174650</td>\n",
              "      <td>Last Detail, The (1973)</td>\n",
              "      <td>Comedy|Drama</td>\n",
              "    </tr>\n",
              "    <tr>\n",
              "      <th>4</th>\n",
              "      <td>5915</td>\n",
              "      <td>5.155724</td>\n",
              "      <td>Victory (a.k.a. Escape to Victory) (1981)</td>\n",
              "      <td>Action|Drama|War</td>\n",
              "    </tr>\n",
              "  </tbody>\n",
              "</table>\n",
              "</div>"
            ],
            "text/plain": [
              "   movieId  ...             genres\n",
              "0    86345  ...             Comedy\n",
              "1     5490  ...      Action|Comedy\n",
              "2   132333  ...  Documentary|Drama\n",
              "3     3200  ...       Comedy|Drama\n",
              "4     5915  ...   Action|Drama|War\n",
              "\n",
              "[5 rows x 4 columns]"
            ]
          },
          "metadata": {
            "tags": []
          }
        }
      ]
    },
    {
      "cell_type": "code",
      "metadata": {
        "id": "UyjxbLbpUYtq",
        "colab_type": "code",
        "colab": {}
      },
      "source": [
        ""
      ],
      "execution_count": 0,
      "outputs": []
    }
  ]
}